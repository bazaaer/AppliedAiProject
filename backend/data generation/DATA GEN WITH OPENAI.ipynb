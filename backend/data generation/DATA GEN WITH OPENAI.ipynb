{
 "cells": [
  {
   "cell_type": "code",
   "id": "initial_id",
   "metadata": {
    "collapsed": true,
    "ExecuteTime": {
     "end_time": "2024-10-17T09:46:26.256828Z",
     "start_time": "2024-10-17T09:46:26.253867Z"
    }
   },
   "source": "import pandas as pd",
   "outputs": [],
   "execution_count": 15
  },
  {
   "metadata": {
    "ExecuteTime": {
     "end_time": "2024-10-17T09:46:26.328347Z",
     "start_time": "2024-10-17T09:46:26.259693Z"
    }
   },
   "cell_type": "code",
   "source": "df = pd.read_csv('../training_data/important_sentences.csv')",
   "id": "bb640d25be032b35",
   "outputs": [],
   "execution_count": 16
  },
  {
   "metadata": {
    "ExecuteTime": {
     "end_time": "2024-10-17T09:46:26.359243Z",
     "start_time": "2024-10-17T09:46:26.330002Z"
    }
   },
   "cell_type": "code",
   "source": "df",
   "id": "77ec18ce045bf13f",
   "outputs": [
    {
     "data": {
      "text/plain": [
       "       Unnamed: 0                                           sentence\n",
       "0               0  Je krijgt die als je bent ingeschreven en de n...\n",
       "1               1  Zo krijg je snel de juiste informatie en instr...\n",
       "2               2  Iedereen die dan aanwezig is in een bepaalde z...\n",
       "3               3  Nationale test BE-Alert 18 steden en gemeenten...\n",
       "4               4  Stap als het kan over op één van de park-and-r...\n",
       "...           ...                                                ...\n",
       "23804       23804  Inschrijven Reglement stedelijke zwembaden Lee...\n",
       "23805       23805  De school op Linkeroever had een groot grasvel...\n",
       "23806       23806  De school organiseert elk jaar een aantal geze...\n",
       "23807       23807  Stad Antwerpen is op zoek naar vrijwillige bur...\n",
       "23808       23808  De opleiding gaat door op zaterdag 9/3, zaterd...\n",
       "\n",
       "[23809 rows x 2 columns]"
      ],
      "text/html": [
       "<div>\n",
       "<style scoped>\n",
       "    .dataframe tbody tr th:only-of-type {\n",
       "        vertical-align: middle;\n",
       "    }\n",
       "\n",
       "    .dataframe tbody tr th {\n",
       "        vertical-align: top;\n",
       "    }\n",
       "\n",
       "    .dataframe thead th {\n",
       "        text-align: right;\n",
       "    }\n",
       "</style>\n",
       "<table border=\"1\" class=\"dataframe\">\n",
       "  <thead>\n",
       "    <tr style=\"text-align: right;\">\n",
       "      <th></th>\n",
       "      <th>Unnamed: 0</th>\n",
       "      <th>sentence</th>\n",
       "    </tr>\n",
       "  </thead>\n",
       "  <tbody>\n",
       "    <tr>\n",
       "      <th>0</th>\n",
       "      <td>0</td>\n",
       "      <td>Je krijgt die als je bent ingeschreven en de n...</td>\n",
       "    </tr>\n",
       "    <tr>\n",
       "      <th>1</th>\n",
       "      <td>1</td>\n",
       "      <td>Zo krijg je snel de juiste informatie en instr...</td>\n",
       "    </tr>\n",
       "    <tr>\n",
       "      <th>2</th>\n",
       "      <td>2</td>\n",
       "      <td>Iedereen die dan aanwezig is in een bepaalde z...</td>\n",
       "    </tr>\n",
       "    <tr>\n",
       "      <th>3</th>\n",
       "      <td>3</td>\n",
       "      <td>Nationale test BE-Alert 18 steden en gemeenten...</td>\n",
       "    </tr>\n",
       "    <tr>\n",
       "      <th>4</th>\n",
       "      <td>4</td>\n",
       "      <td>Stap als het kan over op één van de park-and-r...</td>\n",
       "    </tr>\n",
       "    <tr>\n",
       "      <th>...</th>\n",
       "      <td>...</td>\n",
       "      <td>...</td>\n",
       "    </tr>\n",
       "    <tr>\n",
       "      <th>23804</th>\n",
       "      <td>23804</td>\n",
       "      <td>Inschrijven Reglement stedelijke zwembaden Lee...</td>\n",
       "    </tr>\n",
       "    <tr>\n",
       "      <th>23805</th>\n",
       "      <td>23805</td>\n",
       "      <td>De school op Linkeroever had een groot grasvel...</td>\n",
       "    </tr>\n",
       "    <tr>\n",
       "      <th>23806</th>\n",
       "      <td>23806</td>\n",
       "      <td>De school organiseert elk jaar een aantal geze...</td>\n",
       "    </tr>\n",
       "    <tr>\n",
       "      <th>23807</th>\n",
       "      <td>23807</td>\n",
       "      <td>Stad Antwerpen is op zoek naar vrijwillige bur...</td>\n",
       "    </tr>\n",
       "    <tr>\n",
       "      <th>23808</th>\n",
       "      <td>23808</td>\n",
       "      <td>De opleiding gaat door op zaterdag 9/3, zaterd...</td>\n",
       "    </tr>\n",
       "  </tbody>\n",
       "</table>\n",
       "<p>23809 rows × 2 columns</p>\n",
       "</div>"
      ]
     },
     "execution_count": 17,
     "metadata": {},
     "output_type": "execute_result"
    }
   ],
   "execution_count": 17
  },
  {
   "metadata": {},
   "cell_type": "code",
   "outputs": [],
   "execution_count": null,
   "source": "",
   "id": "da8c6247a9f9fffd"
  }
 ],
 "metadata": {
  "kernelspec": {
   "display_name": "Python 3",
   "language": "python",
   "name": "python3"
  },
  "language_info": {
   "codemirror_mode": {
    "name": "ipython",
    "version": 2
   },
   "file_extension": ".py",
   "mimetype": "text/x-python",
   "name": "python",
   "nbconvert_exporter": "python",
   "pygments_lexer": "ipython2",
   "version": "2.7.6"
  }
 },
 "nbformat": 4,
 "nbformat_minor": 5
}
