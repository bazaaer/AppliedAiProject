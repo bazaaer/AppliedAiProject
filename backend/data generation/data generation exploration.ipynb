{
 "cells": [
  {
   "cell_type": "code",
   "execution_count": 1,
   "id": "initial_id",
   "metadata": {
    "ExecuteTime": {
     "end_time": "2024-11-03T12:01:32.119668Z",
     "start_time": "2024-11-03T12:01:31.904639Z"
    }
   },
   "outputs": [],
   "source": [
    "import pandas as pd\n",
    "import ollama\n",
    "import re\n",
    "import time"
   ]
  },
  {
   "cell_type": "code",
   "execution_count": 2,
   "id": "bb640d25be032b35",
   "metadata": {
    "ExecuteTime": {
     "end_time": "2024-10-17T09:46:26.328347Z",
     "start_time": "2024-10-17T09:46:26.259693Z"
    }
   },
   "outputs": [],
   "source": [
    "df = pd.read_csv('important_sentences.csv',index_col=0)"
   ]
  },
  {
   "cell_type": "code",
   "execution_count": 3,
   "id": "6f3ee886-edb4-4274-9b52-07db03764e04",
   "metadata": {},
   "outputs": [],
   "source": [
    "df.index.name = 'index'\n",
    "df.rename(columns={'sentence': 'sentence1'}, inplace=True)\n",
    "df['sentence2'] = \"\"  # Fill with empty strings\n",
    "df['score'] = 0.0"
   ]
  },
  {
   "cell_type": "code",
   "execution_count": 9,
   "id": "9c200a57-07ef-4d0a-bd50-77510700edaa",
   "metadata": {},
   "outputs": [
    {
     "data": {
      "text/plain": [
       "Index(['sentence1', 'sentence2', 'score'], dtype='object')"
      ]
     },
     "execution_count": 9,
     "metadata": {},
     "output_type": "execute_result"
    }
   ],
   "source": [
    "df.columns"
   ]
  },
  {
   "cell_type": "code",
   "execution_count": 5,
   "id": "b7ebbf19-0216-49c7-bfaa-697ec640ccef",
   "metadata": {},
   "outputs": [
    {
     "data": {
      "text/plain": [
       "{'status': 'success'}"
      ]
     },
     "execution_count": 5,
     "metadata": {},
     "output_type": "execute_result"
    }
   ],
   "source": [
    "schrijfassistent_goed = \"\"\"\n",
    "FROM bramvanroy/geitje-7b-ultra:Q4_K_M\n",
    "\n",
    "PARAMETER temperature 0.3\n",
    "    \n",
    "SYSTEM Bij elke zin die je ontvangt, verander je alleen de delen die niet overeenkomen met deze richtlijnen en geef je de gecorrigeerde zin terug als dit nodig is, zonder extra toelichting. Houd de lengte van de gecorrigeerde zin vergelijkbaar met de oorspronkelijke zin. Schrijf op een energieke en heldere manier. Schrijf op een enthousiaste manier zonder te overdrijven. Vermeld specifiek de datum, tijd, en kosten als deze zijn meegegeven, en gebruik toegankelijke en inclusieve taal. Houd de stijl direct en actief, en vermijd formeel of ambtelijk taalgebruik. Gebruik 'je' in informele communicatie zoals campagnes en sociale media, en 'u' in formele teksten zoals brieven en uitnodigingen.  Schrijf zonder jargon en wees je bewust van de diversiteit van lezers. Leg vaktermen uit als ze nodig zijn. Gebruik geen dialect of vreemde woorden tenzij relevant. Maak gebruik van eenvoudige en alledaagse woorden om verwarring te voorkomen. Schrijf genderneutraal en houd rekening met de inclusiviteit van personen met een beperking waar relevant. Gebruik de vorm '-aren' voor inwonersnamen zoals antwerpenaren. Schrijf getallen niet voluit voorbeeld: 10 ipv tien.\n",
    "\"\"\"\n",
    "\n",
    "stijlassistent_goed = \"\"\"\n",
    "FROM bramvanroy/geitje-7b-ultra:Q4_K_M\n",
    "\n",
    "PARAMETER temperature 0.15\n",
    "    \n",
    "SYSTEM Bij elke zin die je ontvangt, verander je alleen de delen die niet overeenkomen met deze richtlijnen en geef je de gecorrigeerde zin terug als dit nodig is, zonder extra toelichting. Schrijf urls altijd met het www. protocol. Houd de lengte van de gecorrigeerde zin vergelijkbaar met de oorspronkelijke zin. Gebruik kleine letters voor 'stad', 'stadsdeel' en 'district'. RAAK URLS NIET AAN. Schrijf afdelingen en diensten binnen de stad met hoofdletters, behalve lidwoorden en voegwoorden. Gebruik 'we' alleen bij communicatie vanuit de redactie of om verbinding te tonen. Vermijd 'we' wanneer je spreekt namens een dienst of district. Gebruik dubbele aanhalingstekens voor citaten en enkele voor titels van werken zoals voorstellingen en boeken. Vermijd woorden uit andere talen. Zet ze cursief als dat noodzakelijk is. Gebruik de 24-uursnotatie. Schrijf getallen altijd als cijfers, met een punt voor duizendtallen en 'euro' voluit. Vermeld de volledige datum in tekst met de dag van de week indien mogelijk. Bij plaatsgebrek schrijf je compact met een slash.\n",
    "\"\"\" \n",
    "\n",
    "ollama.create(model='schrijfassistent_goed', modelfile=schrijfassistent_goed)\n",
    "ollama.create(model='stijlassistent_goed', modelfile=stijlassistent_goed)"
   ]
  },
  {
   "cell_type": "code",
   "execution_count": 6,
   "id": "d69238f4-4fdd-43ab-b9e6-efe1cdb63017",
   "metadata": {},
   "outputs": [
    {
     "name": "stdout",
     "output_type": "stream",
     "text": [
      "Original: De vergadering vindt plaats op maandag 3 november om 10:00 uur en kost 15 euro. Meer info op https://antwerpen.be.\n",
      "Final Output: De vergadering is gepland voor maandag 3 november om 10.00 uur en de deelname kost €15. Voor meer informatie kun je terecht op www.antwerpen.be.\n",
      "\n",
      "Total execution time: 4.0236 seconds\n"
     ]
    }
   ],
   "source": [
    "# Function to clean URLs, modify time phrases, and remove non-alphanumeric characters in one pass\n",
    "def clean_and_process_text(input_text):\n",
    "    # Define regex patterns\n",
    "    url_pattern = re.compile(r'\\b(?:https?:\\/\\/)?(?:www\\.)?([a-zA-Z0-9.-]+(?:\\.[a-zA-Z]{2,}))\\b')\n",
    "    time_pattern = re.compile(r'\\b(\\d{1,2}):(\\d{2})\\s*uur\\b')\n",
    "    alphanumeric_pattern = re.compile(r'[^a-zA-Z0-9\\s.,!?;:()\\'\"-\\\\\\/‟„”$€¥£™©]')\n",
    "    \n",
    "    def replace_url(match):\n",
    "        # Extract and format the domain\n",
    "        domain = match.group(1)\n",
    "        return f\"www.{domain}\" if not match.group(0).startswith('www.') else domain\n",
    "\n",
    "    def replace_time(match):\n",
    "        # Replace ':' with '.' for the time format\n",
    "        return match.group(0).replace(':', '.')\n",
    "\n",
    "    # Process the input text\n",
    "    def process_text(text):\n",
    "        # Replace URLs and modify time phrases\n",
    "        text = url_pattern.sub(replace_url, text)\n",
    "        text = time_pattern.sub(replace_time, text)\n",
    "        # Remove non-alphanumeric characters\n",
    "        return alphanumeric_pattern.sub('', text)\n",
    "    \n",
    "    # Return the processed text\n",
    "    return process_text(input_text)\n",
    "\n",
    "example_sentences = [\n",
    "    \"De vergadering vindt plaats op maandag 3 november om 10:00 uur en kost 15 euro. Meer info op https://antwerpen.be.\",\n",
    "]\n",
    "\n",
    "# Start timing\n",
    "start_time = time.time()\n",
    "\n",
    "for original_sentence in example_sentences:\n",
    "    rewritten_response = ollama.generate(model='schrijfassistent_goed', prompt=original_sentence)\n",
    "    style_response = ollama.generate(model='stijlassistent_goed', prompt=rewritten_response['response'])\n",
    "\n",
    "    final_output = clean_and_process_text(style_response['response'])\n",
    "\n",
    "    print(f\"Original: {original_sentence}\")\n",
    "    print(f\"Final Output: {final_output}\\n\")\n",
    "\n",
    "# End timing\n",
    "end_time = time.time()\n",
    "\n",
    "execution_time = end_time - start_time\n",
    "print(f\"Total execution time: {execution_time:.4f} seconds\")"
   ]
  },
  {
   "cell_type": "code",
   "execution_count": 7,
   "id": "f568f3b8-3fed-443e-a6fe-9a5b5f501d11",
   "metadata": {},
   "outputs": [
    {
     "data": {
      "text/plain": [
       "{'status': 'success'}"
      ]
     },
     "execution_count": 7,
     "metadata": {},
     "output_type": "execute_result"
    }
   ],
   "source": [
    "schrijfassistent_slecht = \"\"\"\n",
    "FROM bramvanroy/geitje-7b-ultra:Q4_K_M\n",
    "\n",
    "PARAMETER temperature 1\n",
    "    \n",
    "SYSTEM Bij elke zin die je ontvangt, laat je alleen de delen die niet overeenkomen met deze richtlijnen intact en geef je de originele zin terug als dit niet nodig is, zonder extra uitleg. Houd de lengte van de originele zin niet noodzakelijk vergelijkbaar met de gecorrigeerde zin. Schrijf op een saaie en onduidelijke manier. Schrijf op een ongeïnspireerde manier zonder enige opwinding. Vermeld geen specifieke datum, tijd of kosten als deze zijn meegegeven, en gebruik taal die niet toegankelijk of exclusief is. Houd de stijl indirect en passief, en vermijd een directe communicatiestijl. Gebruik 'u' in informele communicatie zoals campagnes en sociale media, en 'je' in formele teksten zoals brieven en uitnodigingen. Schrijf vol jargon en negeer de diversiteit van lezers. Leg vaktermen nooit uit, ook al zijn ze nodig. Gebruik dialect en vreemde woorden, ongeacht de relevantie. Maak gebruik van complexe en ongebruikelijke woorden om verwarring te bevorderen. Schrijf niet genderneutraal en houd geen rekening met de inclusiviteit van personen met een beperking, zelfs als dat relevant is. Gebruik de vorm '-en' voor inwonersnamen. Schrijf getallen voluit, bijvoorbeeld: tien in plaats van 10.\"\"\"\n",
    "\n",
    "stijlassistent_slecht = \"\"\"\n",
    "FROM bramvanroy/geitje-7b-ultra:Q4_K_M\n",
    "\n",
    "PARAMETER temperature 1\n",
    "    \n",
    "SYSTEM Bij elke zin die je ontvangt, verander je alleen de delen die overeenkomen met deze richtlijnen en geef je de gecorrigeerde zin terug als dit niet nodig is, zonder extra toelichting. Houd de lengte van de gecorrigeerde zin ongelijk aan de oorspronkelijke zin. Gebruik bij websites nooit 'www' als prefix. Gebruik hoofdletters voor 'stad', 'stadsdeel' en 'district'. Schrijf afdelingen en diensten binnen de stad met kleine letters, inclusief lidwoorden en voegwoorden. Gebruik 'we' altijd bij communicatie vanuit de redactie of om verbinding te tonen. Vermijd 'we' nooit wanneer je spreekt namens een dienst of district. Gebruik enkele aanhalingstekens voor citaten en dubbele voor titels van werken zoals voorstellingen en boeken. Gebruik woorden uit andere talen zonder cursivering. Gebruik de 12-uursnotatie. Schrijf getallen altijd als woorden, met een komma voor duizendtallen en '€' als symbool. Vermeld de datum in tekst zonder de dag van de week. Bij plaatsgebrek schrijf je ruim met een spatie.\n",
    "\"\"\" \n",
    "\n",
    "ollama.create(model='schrijfassistent_slecht', modelfile=schrijfassistent_goed)\n",
    "ollama.create(model='stijlassistent_slecht', modelfile=stijlassistent_goed)"
   ]
  },
  {
   "cell_type": "code",
   "execution_count": 8,
   "id": "20fd017d-60d5-46c6-91eb-63c6c6d39e42",
   "metadata": {},
   "outputs": [
    {
     "name": "stdout",
     "output_type": "stream",
     "text": [
      "Original: De vergadering vindt plaats op maandag 3 november om 10:00 uur en kost 15 euro. Meer info op https://antwerpen.be.\n",
      "Final Output: Op maandag 3 november, vanaf 10:00 uur, is er een vergadering die je niet wilt missen! De kosten zijn €15 en voor meer informatie kun je terecht op https://antwerpen.be.\n",
      "\n",
      "Total execution time: 2.9754 seconds\n"
     ]
    }
   ],
   "source": [
    "example_sentences = [\n",
    "    \"De vergadering vindt plaats op maandag 3 november om 10:00 uur en kost 15 euro. Meer info op https://antwerpen.be.\",\n",
    "]\n",
    "\n",
    "# Start timing\n",
    "start_time = time.time()\n",
    "\n",
    "for original_sentence in example_sentences:\n",
    "    rewritten_response = ollama.generate(model='schrijfassistent_slecht', prompt=original_sentence)\n",
    "    style_response = ollama.generate(model='stijlassistent_slecht', prompt=rewritten_response['response'])\n",
    "\n",
    "    final_output = style_response['response']\n",
    "    print(f\"Original: {original_sentence}\")\n",
    "    print(f\"Final Output: {final_output}\\n\")\n",
    "\n",
    "# End timing\n",
    "end_time = time.time()\n",
    "\n",
    "execution_time = end_time - start_time\n",
    "print(f\"Total execution time: {execution_time:.4f} seconds\")"
   ]
  },
  {
   "cell_type": "code",
   "execution_count": 14,
   "id": "d427514d-4b66-4ec9-99ae-12fd707e5352",
   "metadata": {},
   "outputs": [
    {
     "name": "stdout",
     "output_type": "stream",
     "text": [
      "Failed to send email: (535, b'5.7.139 Authentication unsuccessful, account has an issue. Contact your administrator. [FR3P281CA0100.DEUP281.PROD.OUTLOOK.COM 2024-11-03T15:45:05.291Z 08DCFB25EF9852C3]')\n"
     ]
    }
   ],
   "source": [
    "import smtplib\n",
    "from email.mime.text import MIMEText\n",
    "from email.mime.multipart import MIMEMultipart\n",
    "\n",
    "def send_email(subject, body, to_email):\n",
    "    # Email account credentials\n",
    "    from_email = \"jurrean.denys@student.ap.be\"  # Replace with your Outlook email\n",
    "    from_password = \"B0bd3z0mbie!1234\"  # Replace with your password or app password\n",
    "\n",
    "    # Create the email\n",
    "    msg = MIMEMultipart()\n",
    "    msg['From'] = from_email\n",
    "    msg['To'] = to_email\n",
    "    msg['Subject'] = subject\n",
    "\n",
    "    # Attach the email body\n",
    "    msg.attach(MIMEText(body, 'plain'))\n",
    "\n",
    "    try:\n",
    "        # Set up the SMTP server for Outlook\n",
    "        with smtplib.SMTP('smtp.office365.com', 587) as server:  # For Outlook/Office 365\n",
    "            server.starttls()  # Upgrade the connection to a secure encrypted SSL/TLS\n",
    "            server.login(from_email, from_password)\n",
    "            server.send_message(msg)\n",
    "\n",
    "        print(\"Email sent successfully!\")\n",
    "\n",
    "    except Exception as e:\n",
    "        print(f\"Failed to send email: {e}\")\n",
    "\n",
    "# Usage example after processing the DataFrame\n",
    "if __name__ == \"__main__\":\n",
    "    # After your DataFrame processing code...\n",
    "    \n",
    "    # Notify via email\n",
    "    send_email(\n",
    "        subject=\"Data Processing Complete\",\n",
    "        body=\"The DataFrame processing is complete. Please check the output file.\",\n",
    "        to_email=\"jurreandenys@gmail.com\"  # Replace with your recipient email\n",
    "    )"
   ]
  },
  {
   "cell_type": "code",
   "execution_count": null,
   "id": "c3a846d3-6641-4fc7-b561-bcc1a13cfe6b",
   "metadata": {},
   "outputs": [],
   "source": []
  }
 ],
 "metadata": {
  "kernelspec": {
   "display_name": "Python 3 (ipykernel)",
   "language": "python",
   "name": "python3"
  },
  "language_info": {
   "codemirror_mode": {
    "name": "ipython",
    "version": 3
   },
   "file_extension": ".py",
   "mimetype": "text/x-python",
   "name": "python",
   "nbconvert_exporter": "python",
   "pygments_lexer": "ipython3",
   "version": "3.11.10"
  }
 },
 "nbformat": 4,
 "nbformat_minor": 5
}
