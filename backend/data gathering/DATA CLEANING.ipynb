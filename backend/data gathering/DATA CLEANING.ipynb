{
 "cells": [
  {
   "cell_type": "markdown",
   "id": "f7682d28",
   "metadata": {},
   "source": [
    "\n",
    "# Data Processing and Extraction using NLP\n",
    "This notebook processes textual data, identifies important sentences using Natural Language Processing (NLP), \n",
    "and exports the results to a CSV file. The dataset used contains various text snippets, and our goal is to \n",
    "extract important information by recognizing entities and other key aspects.\n"
   ]
  },
  {
   "cell_type": "code",
   "id": "38ca4e61",
   "metadata": {
    "ExecuteTime": {
     "end_time": "2024-11-02T17:48:01.341106Z",
     "start_time": "2024-11-02T17:47:59.241471Z"
    }
   },
   "source": [
    "import pandas as pd\n",
    "import re\n",
    "import spacy\n",
    "from langdetect import detect, DetectorFactory\n",
    "\n",
    "# Load spaCy model (Dutch language model for this case)\n",
    "nlp = spacy.load(\"nl_core_news_lg\")\n",
    "\n",
    "# Enable GPU usage for spaCy if available\n",
    "spacy.prefer_gpu()\n"
   ],
   "outputs": [
    {
     "data": {
      "text/plain": [
       "False"
      ]
     },
     "execution_count": 34,
     "metadata": {},
     "output_type": "execute_result"
    }
   ],
   "execution_count": 34
  },
  {
   "cell_type": "code",
   "id": "baae5cc0",
   "metadata": {
    "ExecuteTime": {
     "end_time": "2024-11-02T17:48:01.918613Z",
     "start_time": "2024-11-02T17:48:01.343061Z"
    }
   },
   "source": [
    "# Load the dataset\n",
    "try:\n",
    "    df = pd.read_csv('antwerpen.csv')\n",
    "    print(\"Dataset loaded successfully.\")\n",
    "except FileNotFoundError:\n",
    "    print(\"Error: Dataset file not found.\")"
   ],
   "outputs": [
    {
     "name": "stdout",
     "output_type": "stream",
     "text": [
      "Dataset loaded successfully.\n"
     ]
    }
   ],
   "execution_count": 35
  },
  {
   "cell_type": "code",
   "id": "9c6a2a58",
   "metadata": {
    "ExecuteTime": {
     "end_time": "2024-11-02T17:48:01.924072Z",
     "start_time": "2024-11-02T17:48:01.920151Z"
    }
   },
   "source": [
    "# Split the text into sentences using regex for sentence boundary detection\n",
    "def split_sentences(text):\n",
    "    # Pattern matches sentence boundaries after punctuation followed by a capital letter\n",
    "    sentence_pattern = r'(?<=[.!?])\\s+(?=[A-Z])'\n",
    "    sentences = re.split(sentence_pattern, text)\n",
    "    return sentences\n",
    "\n",
    "# Define a function to determine if a sentence is important\n",
    "def is_important(sentence):\n",
    "    doc = nlp(sentence)\n",
    "    \n",
    "    # Check for named entities\n",
    "    if len(doc.ents) > 0:\n",
    "        return True\n",
    "    \n",
    "    # Check if the sentence length is within a reasonable range\n",
    "    if 3 < len(doc) < 30:\n",
    "        return True\n",
    "\n",
    "    # Check for specific parts of speech such as proper nouns or numbers\n",
    "    if any(token.pos_ == 'PROPN' or token.pos_ == 'NUM' for token in doc):\n",
    "        return True\n",
    "    \n",
    "    return False\n",
    "\n",
    "\n",
    "\n",
    "# Ensure consistent results\n",
    "DetectorFactory.seed = 0\n",
    "\n",
    "def is_dutch(text):\n",
    "    try:\n",
    "        language = detect(text)\n",
    "        if language == 'nl':\n",
    "            return True\n",
    "        else:\n",
    "            return False\n",
    "    except:\n",
    "        return False"
   ],
   "outputs": [],
   "execution_count": 36
  },
  {
   "cell_type": "code",
   "id": "a2faa35b",
   "metadata": {
    "ExecuteTime": {
     "end_time": "2024-11-02T18:02:55.906441Z",
     "start_time": "2024-11-02T17:48:01.925865Z"
    }
   },
   "source": [
    "\n",
    "# Process all sentences in the dataframe\n",
    "all_sentences = []\n",
    "\n",
    "for text in df['body_content']:\n",
    "    sentences = split_sentences(text)\n",
    "    all_sentences.extend(sentences)\n",
    "\n",
    "# Create a DataFrame for sentences\n",
    "sentences_df = pd.DataFrame(all_sentences, columns=['sentence'])\n",
    "\n",
    "# Remove duplicate sentences\n",
    "sentences_df = sentences_df.drop_duplicates(subset='sentence')\n",
    "\n",
    "# Mark important sentences\n",
    "sentences_df['important'] = sentences_df['sentence'].apply(is_important)\n",
    "\n",
    "# Filter only important sentences\n",
    "important_sentences_df = sentences_df[sentences_df['important'] == True].drop(columns=['important'])\n",
    "\n",
    "important_sentences_df['dutch'] = important_sentences_df['sentence'].apply(is_dutch)\n",
    "\n",
    "dutch_sentences_df = important_sentences_df[important_sentences_df['dutch'] == True].drop(columns=['dutch'])"
   ],
   "outputs": [],
   "execution_count": 37
  },
  {
   "metadata": {
    "ExecuteTime": {
     "end_time": "2024-11-02T18:02:55.915894Z",
     "start_time": "2024-11-02T18:02:55.908898Z"
    }
   },
   "cell_type": "code",
   "source": "dutch_sentences_df",
   "id": "b5e3e0badacec13b",
   "outputs": [
    {
     "data": {
      "text/plain": [
       "                                                 sentence\n",
       "0       Ga direct naar de inhoud NL FR DE EN Contact C...\n",
       "1       Meld het ons Adressen en openingsuren Contactg...\n",
       "2       Als je optionele cookies weigert, worden allee...\n",
       "3       Bepaalde inhoud (zoals van YouTube) is alleen ...\n",
       "4       Je kan je cookievoorkeuren altijd aanpassen vi...\n",
       "...                                                   ...\n",
       "331661  Dan ben je hier zeker op de juiste plaats! © V...\n",
       "331670  Meld het ons Adressen en openingsuren Contactg...\n",
       "331671  Tijd om als vrijwilliger aan de slag te gaan b...\n",
       "331682  Meer info en inschrijven Meer info Arvid van L...\n",
       "331691  Meld het ons Adressen en openingsuren Contactg...\n",
       "\n",
       "[103578 rows x 1 columns]"
      ],
      "text/html": [
       "<div>\n",
       "<style scoped>\n",
       "    .dataframe tbody tr th:only-of-type {\n",
       "        vertical-align: middle;\n",
       "    }\n",
       "\n",
       "    .dataframe tbody tr th {\n",
       "        vertical-align: top;\n",
       "    }\n",
       "\n",
       "    .dataframe thead th {\n",
       "        text-align: right;\n",
       "    }\n",
       "</style>\n",
       "<table border=\"1\" class=\"dataframe\">\n",
       "  <thead>\n",
       "    <tr style=\"text-align: right;\">\n",
       "      <th></th>\n",
       "      <th>sentence</th>\n",
       "    </tr>\n",
       "  </thead>\n",
       "  <tbody>\n",
       "    <tr>\n",
       "      <th>0</th>\n",
       "      <td>Ga direct naar de inhoud NL FR DE EN Contact C...</td>\n",
       "    </tr>\n",
       "    <tr>\n",
       "      <th>1</th>\n",
       "      <td>Meld het ons Adressen en openingsuren Contactg...</td>\n",
       "    </tr>\n",
       "    <tr>\n",
       "      <th>2</th>\n",
       "      <td>Als je optionele cookies weigert, worden allee...</td>\n",
       "    </tr>\n",
       "    <tr>\n",
       "      <th>3</th>\n",
       "      <td>Bepaalde inhoud (zoals van YouTube) is alleen ...</td>\n",
       "    </tr>\n",
       "    <tr>\n",
       "      <th>4</th>\n",
       "      <td>Je kan je cookievoorkeuren altijd aanpassen vi...</td>\n",
       "    </tr>\n",
       "    <tr>\n",
       "      <th>...</th>\n",
       "      <td>...</td>\n",
       "    </tr>\n",
       "    <tr>\n",
       "      <th>331661</th>\n",
       "      <td>Dan ben je hier zeker op de juiste plaats! © V...</td>\n",
       "    </tr>\n",
       "    <tr>\n",
       "      <th>331670</th>\n",
       "      <td>Meld het ons Adressen en openingsuren Contactg...</td>\n",
       "    </tr>\n",
       "    <tr>\n",
       "      <th>331671</th>\n",
       "      <td>Tijd om als vrijwilliger aan de slag te gaan b...</td>\n",
       "    </tr>\n",
       "    <tr>\n",
       "      <th>331682</th>\n",
       "      <td>Meer info en inschrijven Meer info Arvid van L...</td>\n",
       "    </tr>\n",
       "    <tr>\n",
       "      <th>331691</th>\n",
       "      <td>Meld het ons Adressen en openingsuren Contactg...</td>\n",
       "    </tr>\n",
       "  </tbody>\n",
       "</table>\n",
       "<p>103578 rows × 1 columns</p>\n",
       "</div>"
      ]
     },
     "execution_count": 38,
     "metadata": {},
     "output_type": "execute_result"
    }
   ],
   "execution_count": 38
  },
  {
   "metadata": {
    "ExecuteTime": {
     "end_time": "2024-11-02T18:02:57.594016Z",
     "start_time": "2024-11-02T18:02:55.917074Z"
    }
   },
   "cell_type": "code",
   "source": [
    "keywords=['browser','menu','contact','2020 antwerpen','sportcentrum','bel','surf','ook interessant','locatie',':','telefoneer','schrijf','website','aanbod','gezin','euro','mail','tel+','@','€','stadsplan','leaflet','gemeentearchief','cookie', 'NL','internetbrowser','E-mail','©','™']\n",
    "\n",
    "pattern = '|'.join(keywords)\n",
    "\n",
    "dutch_sentences_df = dutch_sentences_df[~dutch_sentences_df['sentence'].str.contains(pattern, case=False)]"
   ],
   "id": "17682ec58f07e672",
   "outputs": [],
   "execution_count": 39
  },
  {
   "metadata": {
    "ExecuteTime": {
     "end_time": "2024-11-02T18:02:57.644323Z",
     "start_time": "2024-11-02T18:02:57.595374Z"
    }
   },
   "cell_type": "code",
   "source": [
    "average_length = dutch_sentences_df['sentence'].str.len().mean()\n",
    "\n",
    "dutch_sentences_df = dutch_sentences_df[dutch_sentences_df['sentence'].str.len() >= average_length-18]"
   ],
   "id": "8db033b96bf1c64e",
   "outputs": [],
   "execution_count": 40
  },
  {
   "metadata": {
    "ExecuteTime": {
     "end_time": "2024-11-02T18:02:57.648881Z",
     "start_time": "2024-11-02T18:02:57.645728Z"
    }
   },
   "cell_type": "code",
   "source": "dutch_sentences_df.reset_index(drop=True, inplace=True)",
   "id": "5edf60ee0866f676",
   "outputs": [],
   "execution_count": 41
  },
  {
   "cell_type": "code",
   "id": "73e07ed4",
   "metadata": {
    "ExecuteTime": {
     "end_time": "2024-11-02T18:02:57.837052Z",
     "start_time": "2024-11-02T18:02:57.650382Z"
    }
   },
   "source": [
    "# Export important sentences to a CSV file\n",
    "dutch_sentences_df.to_csv('important_sentences.csv', index=True)\n",
    "print(\"Important sentences exported successfully.\")"
   ],
   "outputs": [
    {
     "name": "stdout",
     "output_type": "stream",
     "text": [
      "Important sentences exported successfully.\n"
     ]
    }
   ],
   "execution_count": 42
  },
  {
   "cell_type": "code",
   "id": "e6009995",
   "metadata": {
    "ExecuteTime": {
     "end_time": "2024-11-02T18:02:57.845751Z",
     "start_time": "2024-11-02T18:02:57.839765Z"
    }
   },
   "source": [
    "# Display a few important sentences\n",
    "dutch_sentences_df.head()"
   ],
   "outputs": [
    {
     "data": {
      "text/plain": [
       "                                            sentence\n",
       "0  Bij een noodsituatie zoals een grote brand, ee...\n",
       "1  Nationale test BE-Alert 18 steden en gemeenten...\n",
       "2  Vrouwen van 50 tot 69 jaar die de voorbije 2 j...\n",
       "3  Spoor borstkanker tijdig op Borstkanker is de ...\n",
       "4  Daarom is een vroegtijdige ontdekking van de k..."
      ],
      "text/html": [
       "<div>\n",
       "<style scoped>\n",
       "    .dataframe tbody tr th:only-of-type {\n",
       "        vertical-align: middle;\n",
       "    }\n",
       "\n",
       "    .dataframe tbody tr th {\n",
       "        vertical-align: top;\n",
       "    }\n",
       "\n",
       "    .dataframe thead th {\n",
       "        text-align: right;\n",
       "    }\n",
       "</style>\n",
       "<table border=\"1\" class=\"dataframe\">\n",
       "  <thead>\n",
       "    <tr style=\"text-align: right;\">\n",
       "      <th></th>\n",
       "      <th>sentence</th>\n",
       "    </tr>\n",
       "  </thead>\n",
       "  <tbody>\n",
       "    <tr>\n",
       "      <th>0</th>\n",
       "      <td>Bij een noodsituatie zoals een grote brand, ee...</td>\n",
       "    </tr>\n",
       "    <tr>\n",
       "      <th>1</th>\n",
       "      <td>Nationale test BE-Alert 18 steden en gemeenten...</td>\n",
       "    </tr>\n",
       "    <tr>\n",
       "      <th>2</th>\n",
       "      <td>Vrouwen van 50 tot 69 jaar die de voorbije 2 j...</td>\n",
       "    </tr>\n",
       "    <tr>\n",
       "      <th>3</th>\n",
       "      <td>Spoor borstkanker tijdig op Borstkanker is de ...</td>\n",
       "    </tr>\n",
       "    <tr>\n",
       "      <th>4</th>\n",
       "      <td>Daarom is een vroegtijdige ontdekking van de k...</td>\n",
       "    </tr>\n",
       "  </tbody>\n",
       "</table>\n",
       "</div>"
      ]
     },
     "execution_count": 43,
     "metadata": {},
     "output_type": "execute_result"
    }
   ],
   "execution_count": 43
  },
  {
   "metadata": {
    "ExecuteTime": {
     "end_time": "2024-11-02T19:28:04.140105Z",
     "start_time": "2024-11-02T19:28:04.072352Z"
    }
   },
   "cell_type": "code",
   "source": "df = pd.read_csv('important_sentences.csv')",
   "id": "26c1901b5da72106",
   "outputs": [],
   "execution_count": 54
  },
  {
   "metadata": {
    "ExecuteTime": {
     "end_time": "2024-11-02T19:28:05.735729Z",
     "start_time": "2024-11-02T19:28:05.564674Z"
    }
   },
   "cell_type": "code",
   "source": [
    "# Filter out rows in the 'sentence' column that contain both '|' and 'BE'\n",
    "df_filtered = df[~(df['sentence'].str.contains(r'\\|') & df['sentence'].str.contains('BE'))]\n",
    "\n",
    "# Add double quotes at the beginning and end of sentences that do not already have them\n",
    "df_filtered['sentence'] = df_filtered['sentence'].apply(lambda x: x if x.startswith('\"') and x.endswith('\"') else f'\"{x}\"')\n",
    "\n",
    "# Rename the index column to 'index' and reset it to start from 0\n",
    "df_filtered = df_filtered.reset_index(drop=True)\n",
    "df_filtered.index.name = 'index'\n",
    "\n",
    "# Save the modified DataFrame to 'important_sentences.csv'\n",
    "df_filtered.to_csv('important_sentences.csv', index=True)\n"
   ],
   "id": "b81b0c3fb75815ef",
   "outputs": [],
   "execution_count": 55
  },
  {
   "metadata": {
    "ExecuteTime": {
     "end_time": "2024-11-02T19:28:06.629600Z",
     "start_time": "2024-11-02T19:28:06.487912Z"
    }
   },
   "cell_type": "code",
   "source": "df_filtered.to_csv('important_sentences.csv', index=False)",
   "id": "4df6c090ec01362",
   "outputs": [],
   "execution_count": 56
  },
  {
   "metadata": {},
   "cell_type": "code",
   "outputs": [],
   "execution_count": null,
   "source": "",
   "id": "574f1d8ee0bd607b"
  }
 ],
 "metadata": {
  "kernelspec": {
   "name": "python3",
   "language": "python",
   "display_name": "Python 3 (ipykernel)"
  }
 },
 "nbformat": 4,
 "nbformat_minor": 5
}
