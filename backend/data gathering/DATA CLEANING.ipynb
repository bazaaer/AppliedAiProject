{
 "cells": [
  {
   "cell_type": "markdown",
   "id": "f7682d28",
   "metadata": {},
   "source": [
    "\n",
    "# Data Processing and Extraction using NLP\n",
    "This notebook processes textual data, identifies important sentences using Natural Language Processing (NLP), \n",
    "and exports the results to a CSV file. The dataset used contains various text snippets, and our goal is to \n",
    "extract important information by recognizing entities and other key aspects.\n"
   ]
  },
  {
   "cell_type": "code",
   "id": "38ca4e61",
   "metadata": {
    "ExecuteTime": {
     "end_time": "2024-10-15T18:45:23.483211Z",
     "start_time": "2024-10-15T18:45:20.360152Z"
    }
   },
   "source": [
    "import pandas as pd\n",
    "import re\n",
    "import spacy\n",
    "\n",
    "# Load spaCy model (Dutch language model for this case)\n",
    "nlp = spacy.load(\"nl_core_news_lg\")\n",
    "\n",
    "# Enable GPU usage for spaCy if available\n",
    "spacy.prefer_gpu()\n"
   ],
   "outputs": [
    {
     "data": {
      "text/plain": [
       "False"
      ]
     },
     "execution_count": 1,
     "metadata": {},
     "output_type": "execute_result"
    }
   ],
   "execution_count": 1
  },
  {
   "cell_type": "code",
   "id": "baae5cc0",
   "metadata": {
    "ExecuteTime": {
     "end_time": "2024-10-15T18:45:24.151631Z",
     "start_time": "2024-10-15T18:45:23.485157Z"
    }
   },
   "source": [
    "# Load the dataset\n",
    "try:\n",
    "    df = pd.read_csv('Antwerpen_c_2.csv')\n",
    "    print(\"Dataset loaded successfully.\")\n",
    "except FileNotFoundError:\n",
    "    print(\"Error: Dataset file not found.\")"
   ],
   "outputs": [
    {
     "name": "stdout",
     "output_type": "stream",
     "text": [
      "Dataset loaded successfully.\n"
     ]
    }
   ],
   "execution_count": 2
  },
  {
   "cell_type": "code",
   "id": "9c6a2a58",
   "metadata": {
    "ExecuteTime": {
     "end_time": "2024-10-15T18:45:24.156367Z",
     "start_time": "2024-10-15T18:45:24.152753Z"
    }
   },
   "source": [
    "# Split the text into sentences using regex for sentence boundary detection\n",
    "def split_sentences(text):\n",
    "    # Pattern matches sentence boundaries after punctuation followed by a capital letter\n",
    "    sentence_pattern = r'(?<=[.!?])\\s+(?=[A-Z])'\n",
    "    sentences = re.split(sentence_pattern, text)\n",
    "    return sentences\n",
    "\n",
    "# Define a function to determine if a sentence is important\n",
    "def is_important(sentence):\n",
    "    doc = nlp(sentence)\n",
    "    \n",
    "    # Check for named entities\n",
    "    if len(doc.ents) > 0:\n",
    "        return True\n",
    "    \n",
    "    # Check if the sentence length is within a reasonable range\n",
    "    if 5 < len(doc) < 40:\n",
    "        return True\n",
    "\n",
    "    # Check for specific parts of speech such as proper nouns or numbers\n",
    "    if any(token.pos_ == 'PROPN' or token.pos_ == 'NUM' for token in doc):\n",
    "        return True\n",
    "    \n",
    "    return False"
   ],
   "outputs": [],
   "execution_count": 3
  },
  {
   "cell_type": "code",
   "id": "a2faa35b",
   "metadata": {
    "ExecuteTime": {
     "end_time": "2024-10-15T18:52:20.959375Z",
     "start_time": "2024-10-15T18:45:24.158247Z"
    }
   },
   "source": [
    "\n",
    "# Process all sentences in the dataframe\n",
    "all_sentences = []\n",
    "\n",
    "for text in df['body_content']:\n",
    "    sentences = split_sentences(text)\n",
    "    all_sentences.extend(sentences)\n",
    "\n",
    "# Create a DataFrame for sentences\n",
    "sentences_df = pd.DataFrame(all_sentences, columns=['sentence'])\n",
    "\n",
    "# Remove duplicate sentences\n",
    "sentences_df = sentences_df.drop_duplicates(subset='sentence')\n",
    "\n",
    "# Mark important sentences\n",
    "sentences_df['important'] = sentences_df['sentence'].apply(is_important)\n",
    "\n",
    "# Filter only important sentences\n",
    "important_sentences_df = sentences_df[sentences_df['important'] == True].drop(columns=['important'])"
   ],
   "outputs": [],
   "execution_count": 4
  },
  {
   "metadata": {
    "ExecuteTime": {
     "end_time": "2024-10-15T18:52:22.006467Z",
     "start_time": "2024-10-15T18:52:20.961174Z"
    }
   },
   "cell_type": "code",
   "source": [
    "keywords=['browser','menu','contact','2020 antwerpen','sportcentrum','bel','surf','ook interessant','locatie',':','telefoneer','schrijf','website','aanbod','gezin','euro','uur','mail',':','tel+','@','€','stadsplan','leaflet','gemeentearchief','cookie', 'NL','internetbrowser','E-mail','©','™']\n",
    "\n",
    "pattern = '|'.join(keywords)\n",
    "\n",
    "important_sentences_df = important_sentences_df[~important_sentences_df['sentence'].str.contains(pattern, case=False)]"
   ],
   "id": "17682ec58f07e672",
   "outputs": [],
   "execution_count": 5
  },
  {
   "metadata": {
    "ExecuteTime": {
     "end_time": "2024-10-15T18:52:22.027070Z",
     "start_time": "2024-10-15T18:52:22.007830Z"
    }
   },
   "cell_type": "code",
   "source": [
    "average_length = important_sentences_df['sentence'].str.len().mean()\n",
    "\n",
    "important_sentences_df = important_sentences_df[important_sentences_df['sentence'].str.len() >= average_length-18]"
   ],
   "id": "8db033b96bf1c64e",
   "outputs": [],
   "execution_count": 6
  },
  {
   "metadata": {
    "ExecuteTime": {
     "end_time": "2024-10-15T18:52:22.039988Z",
     "start_time": "2024-10-15T18:52:22.028274Z"
    }
   },
   "cell_type": "code",
   "source": "important_sentences_df.reset_index(drop=True, inplace=True)",
   "id": "5edf60ee0866f676",
   "outputs": [],
   "execution_count": 7
  },
  {
   "cell_type": "code",
   "id": "73e07ed4",
   "metadata": {
    "ExecuteTime": {
     "end_time": "2024-10-15T18:52:22.121124Z",
     "start_time": "2024-10-15T18:52:22.041292Z"
    }
   },
   "source": [
    "# Export important sentences to a CSV file\n",
    "important_sentences_df.to_csv('important_sentences.csv', index=False)\n",
    "print(\"Important sentences exported successfully.\")"
   ],
   "outputs": [
    {
     "name": "stdout",
     "output_type": "stream",
     "text": [
      "Important sentences exported successfully.\n"
     ]
    }
   ],
   "execution_count": 8
  },
  {
   "cell_type": "code",
   "id": "e6009995",
   "metadata": {
    "ExecuteTime": {
     "end_time": "2024-10-15T18:52:22.130778Z",
     "start_time": "2024-10-15T18:52:22.122320Z"
    }
   },
   "source": [
    "# Display a few important sentences\n",
    "important_sentences_df.head()"
   ],
   "outputs": [
    {
     "data": {
      "text/plain": [
       "                                            sentence\n",
       "0  Je krijgt die als je bent ingeschreven en de n...\n",
       "1  Zo krijg je snel de juiste informatie en instr...\n",
       "2  Nationale test BE-Alert 18 steden en gemeenten...\n",
       "3  Stap als het kan over op één van de park-and-r...\n",
       "4  Iedereen kan ze inkijken, er een afschrift van..."
      ],
      "text/html": [
       "<div>\n",
       "<style scoped>\n",
       "    .dataframe tbody tr th:only-of-type {\n",
       "        vertical-align: middle;\n",
       "    }\n",
       "\n",
       "    .dataframe tbody tr th {\n",
       "        vertical-align: top;\n",
       "    }\n",
       "\n",
       "    .dataframe thead th {\n",
       "        text-align: right;\n",
       "    }\n",
       "</style>\n",
       "<table border=\"1\" class=\"dataframe\">\n",
       "  <thead>\n",
       "    <tr style=\"text-align: right;\">\n",
       "      <th></th>\n",
       "      <th>sentence</th>\n",
       "    </tr>\n",
       "  </thead>\n",
       "  <tbody>\n",
       "    <tr>\n",
       "      <th>0</th>\n",
       "      <td>Je krijgt die als je bent ingeschreven en de n...</td>\n",
       "    </tr>\n",
       "    <tr>\n",
       "      <th>1</th>\n",
       "      <td>Zo krijg je snel de juiste informatie en instr...</td>\n",
       "    </tr>\n",
       "    <tr>\n",
       "      <th>2</th>\n",
       "      <td>Nationale test BE-Alert 18 steden en gemeenten...</td>\n",
       "    </tr>\n",
       "    <tr>\n",
       "      <th>3</th>\n",
       "      <td>Stap als het kan over op één van de park-and-r...</td>\n",
       "    </tr>\n",
       "    <tr>\n",
       "      <th>4</th>\n",
       "      <td>Iedereen kan ze inkijken, er een afschrift van...</td>\n",
       "    </tr>\n",
       "  </tbody>\n",
       "</table>\n",
       "</div>"
      ]
     },
     "execution_count": 9,
     "metadata": {},
     "output_type": "execute_result"
    }
   ],
   "execution_count": 9
  }
 ],
 "metadata": {
  "kernelspec": {
   "name": "python3",
   "language": "python",
   "display_name": "Python 3 (ipykernel)"
  }
 },
 "nbformat": 4,
 "nbformat_minor": 5
}
