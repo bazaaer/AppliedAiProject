{
 "cells": [
  {
   "cell_type": "code",
   "id": "initial_id",
   "metadata": {
    "collapsed": true,
    "ExecuteTime": {
     "end_time": "2024-10-17T12:42:53.102625Z",
     "start_time": "2024-10-17T12:42:51.297483Z"
    }
   },
   "source": [
    "import spacy\n",
    "import pandas as pd\n",
    "\n",
    "nlp = spacy.load('nl_core_news_lg')"
   ],
   "outputs": [],
   "execution_count": 54
  },
  {
   "metadata": {
    "ExecuteTime": {
     "end_time": "2024-10-17T12:42:53.154306Z",
     "start_time": "2024-10-17T12:42:53.104580Z"
    }
   },
   "cell_type": "code",
   "source": [
    "# Sample text for testing\n",
    "sample_text = \"\"\"\n",
    "11/1/22 of ma 11 jan 2022 of van 20 t/m 25 feb 22\n",
    "Voor de tijdsaanduiding wordt gebruikt: 9u50 en van 14 tot 15u. In een tabel mag het afgekort worden tot 14.50 u.\n",
    "\"\"\"\n",
    "\n",
    "# Define the days and relevant connectors\n",
    "days_of_week = {\"ma\", \"di\", \"wo\", \"do\", \"vr\", \"za\", \"zo\", \"woe\", \"wo\"}\n",
    "connectors = {\"van\", \"tot\", \"t/m\", \"tot en met\"}\n",
    "\n",
    "# Function to identify and label date entities\n",
    "def label_dates(doc):\n",
    "    entities = []\n",
    "    spans = []\n",
    "    \n",
    "    for token in doc:\n",
    "        # Check if the token is a connector or day of the week\n",
    "        if token.text in connectors or token.text in days_of_week:\n",
    "            spans.append((token.text, token.pos_))\n",
    "        elif token.ent_type_ == \"DATE\" or (token.pos_ == \"NUM\" and len(spans) > 0):\n",
    "            # If the token is a date or a number, create the date entity\n",
    "            date_span = []\n",
    "            date_span += spans\n",
    "            date_span.append((token.text, token.pos_))\n",
    "            \n",
    "            # Check the next token to see if it continues the date range\n",
    "            next_token = doc[token.i + 1] if token.i + 1 < len(doc) else None\n",
    "            \n",
    "            if next_token and next_token.text in {\"tot\", \"t/m\", \"tot en met\"}:\n",
    "                # If the next token indicates a range, continue capturing\n",
    "                spans.append((next_token.text, next_token.pos_))\n",
    "                if len(doc) > token.i + 2:  # Check for a following date or number\n",
    "                    following_date = doc[token.i + 2]\n",
    "                    if following_date.ent_type_ == \"DATE\" or following_date.pos_ == \"NUM\":\n",
    "                        spans.append((following_date.text, following_date.pos_))\n",
    "                \n",
    "            combined_date = \" \".join([span[0] for span in spans])\n",
    "            entities.append((combined_date, \"DATE\"))\n",
    "            spans = []  # Reset spans after capturing a date entity\n",
    "        else:\n",
    "            spans.append((token.text, token.pos_))\n",
    "\n",
    "    return entities\n",
    "\n",
    "doc = nlp(text=sample_text)\n",
    "\n",
    "labeled_dates = label_dates(doc)\n",
    "\n",
    "df_dates = pd.DataFrame(labeled_dates, columns=[\"Entity\", \"Label\"])"
   ],
   "id": "68b605c71e17734a",
   "outputs": [],
   "execution_count": 55
  },
  {
   "metadata": {
    "ExecuteTime": {
     "end_time": "2024-10-17T12:42:53.160494Z",
     "start_time": "2024-10-17T12:42:53.155459Z"
    }
   },
   "cell_type": "code",
   "source": "df_dates",
   "id": "c5fc705725e3fb9d",
   "outputs": [
    {
     "data": {
      "text/plain": [
       "                                              Entity Label\n",
       "0                                                 \\n  DATE\n",
       "1                                              of ma  DATE\n",
       "2                                                     DATE\n",
       "3                                                     DATE\n",
       "4                                      of van t/m 25  DATE\n",
       "5                                                t/m  DATE\n",
       "6                                                feb  DATE\n",
       "7        \\n Voor de tijdsaanduiding wordt gebruikt :  DATE\n",
       "8                                         en van tot  DATE\n",
       "9  tot 15u . In een tabel mag het afgekort worden...  DATE"
      ],
      "text/html": [
       "<div>\n",
       "<style scoped>\n",
       "    .dataframe tbody tr th:only-of-type {\n",
       "        vertical-align: middle;\n",
       "    }\n",
       "\n",
       "    .dataframe tbody tr th {\n",
       "        vertical-align: top;\n",
       "    }\n",
       "\n",
       "    .dataframe thead th {\n",
       "        text-align: right;\n",
       "    }\n",
       "</style>\n",
       "<table border=\"1\" class=\"dataframe\">\n",
       "  <thead>\n",
       "    <tr style=\"text-align: right;\">\n",
       "      <th></th>\n",
       "      <th>Entity</th>\n",
       "      <th>Label</th>\n",
       "    </tr>\n",
       "  </thead>\n",
       "  <tbody>\n",
       "    <tr>\n",
       "      <th>0</th>\n",
       "      <td>\\n</td>\n",
       "      <td>DATE</td>\n",
       "    </tr>\n",
       "    <tr>\n",
       "      <th>1</th>\n",
       "      <td>of ma</td>\n",
       "      <td>DATE</td>\n",
       "    </tr>\n",
       "    <tr>\n",
       "      <th>2</th>\n",
       "      <td></td>\n",
       "      <td>DATE</td>\n",
       "    </tr>\n",
       "    <tr>\n",
       "      <th>3</th>\n",
       "      <td></td>\n",
       "      <td>DATE</td>\n",
       "    </tr>\n",
       "    <tr>\n",
       "      <th>4</th>\n",
       "      <td>of van t/m 25</td>\n",
       "      <td>DATE</td>\n",
       "    </tr>\n",
       "    <tr>\n",
       "      <th>5</th>\n",
       "      <td>t/m</td>\n",
       "      <td>DATE</td>\n",
       "    </tr>\n",
       "    <tr>\n",
       "      <th>6</th>\n",
       "      <td>feb</td>\n",
       "      <td>DATE</td>\n",
       "    </tr>\n",
       "    <tr>\n",
       "      <th>7</th>\n",
       "      <td>\\n Voor de tijdsaanduiding wordt gebruikt :</td>\n",
       "      <td>DATE</td>\n",
       "    </tr>\n",
       "    <tr>\n",
       "      <th>8</th>\n",
       "      <td>en van tot</td>\n",
       "      <td>DATE</td>\n",
       "    </tr>\n",
       "    <tr>\n",
       "      <th>9</th>\n",
       "      <td>tot 15u . In een tabel mag het afgekort worden...</td>\n",
       "      <td>DATE</td>\n",
       "    </tr>\n",
       "  </tbody>\n",
       "</table>\n",
       "</div>"
      ]
     },
     "execution_count": 56,
     "metadata": {},
     "output_type": "execute_result"
    }
   ],
   "execution_count": 56
  }
 ],
 "metadata": {
  "kernelspec": {
   "display_name": "Python 3",
   "language": "python",
   "name": "python3"
  },
  "language_info": {
   "codemirror_mode": {
    "name": "ipython",
    "version": 2
   },
   "file_extension": ".py",
   "mimetype": "text/x-python",
   "name": "python",
   "nbconvert_exporter": "python",
   "pygments_lexer": "ipython2",
   "version": "2.7.6"
  }
 },
 "nbformat": 4,
 "nbformat_minor": 5
}
