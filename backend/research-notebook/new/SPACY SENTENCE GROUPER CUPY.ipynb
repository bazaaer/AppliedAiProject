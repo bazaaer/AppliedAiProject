{
 "cells": [
  {
   "cell_type": "code",
   "execution_count": 1,
   "id": "7dc7c550a9bdc5c5",
   "metadata": {
    "ExecuteTime": {
     "end_time": "2024-10-16T18:29:47.556183Z",
     "start_time": "2024-10-16T18:29:45.183575Z"
    }
   },
   "outputs": [
    {
     "data": {
      "text/plain": [
       "True"
      ]
     },
     "execution_count": 1,
     "metadata": {},
     "output_type": "execute_result"
    }
   ],
   "source": [
    "import spacy\n",
    "import cupy as cp\n",
    "import timeit\n",
    "nlp = spacy.load(\"nl_core_news_lg\")\n",
    "spacy.prefer_gpu()"
   ]
  },
  {
   "cell_type": "code",
   "execution_count": 2,
   "id": "436672cc-3052-4309-96ff-5d21195387d0",
   "metadata": {},
   "outputs": [],
   "source": [
    "def cosine_similarity_cupy(X, Y=None):\n",
    "    if Y is None:\n",
    "        Y = X\n",
    "    \n",
    "    # Ensure X and Y are CuPy arrays\n",
    "    X = cp.asarray(X)\n",
    "    Y = cp.asarray(Y)\n",
    "\n",
    "    # Compute dot product\n",
    "    dot_product = cp.dot(X, Y.T)\n",
    "\n",
    "    # Compute norms\n",
    "    norm_X = cp.linalg.norm(X, axis=1, keepdims=True)\n",
    "    norm_Y = cp.linalg.norm(Y, axis=1, keepdims=True)\n",
    "\n",
    "    # Compute cosine similarity\n",
    "    cosine_sim = dot_product / (norm_X * norm_Y.T)\n",
    "\n",
    "    return cosine_sim"
   ]
  },
  {
   "cell_type": "code",
   "execution_count": 3,
   "id": "d6dba54027d414e9",
   "metadata": {
    "ExecuteTime": {
     "end_time": "2024-10-16T18:29:47.573414Z",
     "start_time": "2024-10-16T18:29:47.570382Z"
    }
   },
   "outputs": [],
   "source": [
    "def group_consecutive_similar_sentences(text, similarity_threshold=0.75):\n",
    "    doc = nlp(text)\n",
    "    \n",
    "    valid_sentences = []\n",
    "    valid_embeddings = []\n",
    "    \n",
    "    # Extract embeddings for valid sentences\n",
    "    for sent in doc.sents:\n",
    "        embedding = cp.array(sent.vector)  # Convert to CuPy array\n",
    "        if not cp.all(embedding == 0):  # Check if the embedding is not zero\n",
    "            valid_sentences.append(sent.text.strip())\n",
    "            valid_embeddings.append(embedding)\n",
    "    \n",
    "    # Convert valid embeddings to a CuPy array\n",
    "    valid_embeddings = cp.stack(valid_embeddings)\n",
    "    \n",
    "    if valid_embeddings.shape[0] == 0:\n",
    "        return [\"No valid sentences with embeddings found.\"]\n",
    "    \n",
    "    # Calculate cosine similarities using the CuPy implementation\n",
    "    similarities = cosine_similarity_cupy(valid_embeddings)  # Full cosine similarity matrix\n",
    "    \n",
    "    grouped_sentences = []\n",
    "    current_group = [valid_sentences[0]]\n",
    "    \n",
    "    for i in range(1, len(valid_sentences)):\n",
    "        # Compare the current sentence with the previous one\n",
    "        similarity = similarities[i, i - 1].item()  # Convert from CuPy to native Python float\n",
    "        if similarity >= similarity_threshold:\n",
    "            current_group.append(valid_sentences[i])\n",
    "        else:\n",
    "            grouped_sentences.append(current_group)\n",
    "            current_group = [valid_sentences[i]]\n",
    "    \n",
    "    # Append the last group\n",
    "    grouped_sentences.append(current_group)\n",
    "    \n",
    "    return grouped_sentences\n"
   ]
  },
  {
   "cell_type": "code",
   "execution_count": 4,
   "id": "c21e750e757fa963",
   "metadata": {
    "ExecuteTime": {
     "end_time": "2024-10-16T18:29:47.610022Z",
     "start_time": "2024-10-16T18:29:47.607804Z"
    }
   },
   "outputs": [],
   "source": [
    "text = \"\"\"Vanaf 28 september 2024 neemt Antwerpen de fakkel van het Ensorjaar over van Oostende met een veelzijdig en verrassend expoprogramma. Wat Antwerpen heeft met Ensor? Een gedeelde, verrassende blik voorbij het alledaagse. Die gaat al terug tot de tijd van Ensor zelf. Niet toevallig kwamen veel van zijn werken nog tijdens zijn leven in de Scheldestad terecht. Ze vormen vandaag de kern van de Ensor-collectie van het KMSKA en een vertrekpunt voor het Ensor Research Project. In zijn oeuvre laat Ensor zich - net als Antwerpen - kennen als een game-changer: vaak met een knipoog, soms dwars en altijd innovatief. Eigenschappen die Ensor tijdloos en relevant maken. Antwerpen kiest daarom voor verrassende invalshoeken om zijn werk te belichten. Hoe zien we echo’s van Ensor in de kunst, mode en fotografie? Hoe blijft hij inspireren en wat kunnen we vandaag nog van hem leren?\"\"\""
   ]
  },
  {
   "cell_type": "code",
   "execution_count": 5,
   "id": "ccdd1780-6e8a-4d6b-8614-0a2267f34fd8",
   "metadata": {},
   "outputs": [],
   "source": [
    "def measure_grouping():\n",
    "    grouped_sentences = group_consecutive_similar_sentences(text)"
   ]
  },
  {
   "cell_type": "code",
   "execution_count": 6,
   "id": "9c1739c16cac05c8",
   "metadata": {
    "ExecuteTime": {
     "end_time": "2024-10-16T18:29:47.718952Z",
     "start_time": "2024-10-16T18:29:47.653111Z"
    }
   },
   "outputs": [
    {
     "name": "stdout",
     "output_type": "stream",
     "text": [
      "Average time taken to group similar sentences: 0.011605 seconds\n",
      "Elapsed time taken to group similar sentences 1000 times: 11.605359 seconds\n"
     ]
    }
   ],
   "source": [
    "elapsed_time = timeit.timeit(measure_grouping, number=1000)\n",
    "average_time = elapsed_time / 1000.0\n",
    "print(f\"Average time taken to group similar sentences: {average_time:.6f} seconds\")\n",
    "print(f\"Elapsed time taken to group similar sentences 1000 times: {elapsed_time:.6f} seconds\")"
   ]
  },
  {
   "cell_type": "code",
   "execution_count": 7,
   "id": "aad449bb8cd799a0",
   "metadata": {
    "ExecuteTime": {
     "end_time": "2024-10-16T18:29:47.726195Z",
     "start_time": "2024-10-16T18:29:47.723998Z"
    }
   },
   "outputs": [
    {
     "name": "stdout",
     "output_type": "stream",
     "text": [
      "Groep 1:\n",
      " - Vanaf 28 september 2024 neemt Antwerpen de fakkel van het Ensorjaar over van Oostende met een veelzijdig en verrassend expoprogramma.\n",
      "Groep 2:\n",
      " - Wat Antwerpen heeft met Ensor?\n",
      "Groep 3:\n",
      " - Een gedeelde, verrassende blik voorbij het alledaagse.\n",
      "Groep 4:\n",
      " - Die gaat al terug tot de tijd van Ensor zelf.\n",
      " - Niet toevallig kwamen veel van zijn werken nog tijdens zijn leven in de Scheldestad terecht.\n",
      " - Ze vormen vandaag de kern van de Ensor-collectie van het KMSKA en een vertrekpunt voor het Ensor Research Project.\n",
      "Groep 5:\n",
      " - In zijn oeuvre laat Ensor zich - net als Antwerpen - kennen als een game-changer: vaak met een knipoog, soms dwars en altijd innovatief.\n",
      " - Eigenschappen die Ensor tijdloos en relevant maken.\n",
      " - Antwerpen kiest daarom voor verrassende invalshoeken om zijn werk te belichten.\n",
      "Groep 6:\n",
      " - Hoe zien we echo’s van Ensor in de kunst, mode en fotografie?\n",
      " - Hoe blijft hij inspireren en wat kunnen we vandaag nog van hem leren?\n"
     ]
    }
   ],
   "source": [
    "grouped_sentences = group_consecutive_similar_sentences(text)\n",
    "\n",
    "for i, group in enumerate(grouped_sentences, 1):\n",
    "    print(f\"Groep {i}:\")\n",
    "    for sentence in group:\n",
    "        print(f\" - {sentence}\")"
   ]
  }
 ],
 "metadata": {
  "kernelspec": {
   "display_name": "Python 3 (ipykernel)",
   "language": "python",
   "name": "python3"
  },
  "language_info": {
   "codemirror_mode": {
    "name": "ipython",
    "version": 3
   },
   "file_extension": ".py",
   "mimetype": "text/x-python",
   "name": "python",
   "nbconvert_exporter": "python",
   "pygments_lexer": "ipython3",
   "version": "3.11.10"
  }
 },
 "nbformat": 4,
 "nbformat_minor": 5
}
