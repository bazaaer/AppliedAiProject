{
 "cells": [
  {
   "cell_type": "code",
   "id": "initial_id",
   "metadata": {
    "collapsed": true,
    "ExecuteTime": {
     "end_time": "2024-10-16T09:02:42.623259Z",
     "start_time": "2024-10-16T09:02:41.375301Z"
    }
   },
   "source": [
    "import spacy\n",
    "import cupy as cp\n",
    "from sklearn.metrics.pairwise import cosine_similarity\n",
    "import time\n",
    "nlp = spacy.load(\"nl_core_news_lg\")"
   ],
   "outputs": [],
   "execution_count": 121
  },
  {
   "metadata": {
    "ExecuteTime": {
     "end_time": "2024-10-16T09:02:42.629772Z",
     "start_time": "2024-10-16T09:02:42.626684Z"
    }
   },
   "cell_type": "code",
   "source": [
    "def group_similar_sentences(text, similarity_threshold=0.75):\n",
    "    doc = nlp(text)\n",
    "    \n",
    "    valid_sentences = []\n",
    "    valid_embeddings = []\n",
    "\n",
    "    # Extract embeddings for valid sentences\n",
    "    for sent in doc.sents:\n",
    "        embedding = cp.array(sent.vector)  # Convert to CuPy array\n",
    "        if not cp.all(embedding == 0):  # Check if the embedding is not zero\n",
    "            valid_sentences.append(sent.text.strip())\n",
    "            valid_embeddings.append(embedding)\n",
    "\n",
    "    # Convert valid embeddings to a CuPy array\n",
    "    valid_embeddings = cp.array(valid_embeddings)\n",
    "\n",
    "    if valid_embeddings.shape[0] == 0:\n",
    "        return [\"No valid sentences with embeddings found.\"]\n",
    "    \n",
    "    # Compute cosine similarities using CuPy\n",
    "    # Normalize the embeddings\n",
    "    norms = cp.linalg.norm(valid_embeddings, axis=1, keepdims=True)\n",
    "    normalized_embeddings = valid_embeddings / norms  # Avoid division by zero\n",
    "    similarities = cp.dot(normalized_embeddings, normalized_embeddings.T)\n",
    "\n",
    "    # Ensure the diagonal is zero for comparison\n",
    "    cp.fill_diagonal(similarities, 0)\n",
    "\n",
    "    grouped_sentences = []\n",
    "    current_group = [valid_sentences[0]]\n",
    "\n",
    "    # Group sentences based on similarity\n",
    "    for i in range(1, len(valid_sentences)):\n",
    "        similarity = similarities[0, i]  # Compare with the first sentence in the current group\n",
    "\n",
    "        if similarity >= similarity_threshold:\n",
    "            current_group.append(valid_sentences[i])\n",
    "        else:\n",
    "            grouped_sentences.append(current_group)\n",
    "            current_group = [valid_sentences[i]]\n",
    "\n",
    "    grouped_sentences.append(current_group)\n",
    "\n",
    "    return grouped_sentences"
   ],
   "id": "d6dba54027d414e9",
   "outputs": [],
   "execution_count": 122
  },
  {
   "metadata": {
    "ExecuteTime": {
     "end_time": "2024-10-16T09:02:42.674820Z",
     "start_time": "2024-10-16T09:02:42.672626Z"
    }
   },
   "cell_type": "code",
   "source": "text = \"\"\"De appel valt van de boom. De appel is groen.\"\"\"",
   "id": "c21e750e757fa963",
   "outputs": [],
   "execution_count": 123
  },
  {
   "metadata": {
    "ExecuteTime": {
     "end_time": "2024-10-16T09:02:42.730955Z",
     "start_time": "2024-10-16T09:02:42.719488Z"
    }
   },
   "cell_type": "code",
   "source": [
    "\n",
    "start_time = time.time()\n",
    "grouped_sentences = group_similar_sentences(text)\n",
    "end_time = time.time()\n",
    "execution_time = end_time - start_time\n",
    "print(f\"Execution Time: {execution_time:.4f} seconds\")\n",
    "\n",
    "for i, group in enumerate(grouped_sentences, 1):\n",
    "    print(f\"Groep {i}:\")\n",
    "    for sentence in group:\n",
    "        print(f\" - {sentence}\")"
   ],
   "id": "9c1739c16cac05c8",
   "outputs": [
    {
     "name": "stdout",
     "output_type": "stream",
     "text": [
      "Execution Time: 0.0087 seconds\n",
      "Groep 1:\n",
      " - De appel valt van de boom.\n",
      " - De appel is groen.\n"
     ]
    }
   ],
   "execution_count": 124
  },
  {
   "metadata": {
    "ExecuteTime": {
     "end_time": "2024-10-16T09:02:42.767220Z",
     "start_time": "2024-10-16T09:02:42.765632Z"
    }
   },
   "cell_type": "code",
   "source": "",
   "id": "37384ca94b53488d",
   "outputs": [],
   "execution_count": null
  }
 ],
 "metadata": {
  "kernelspec": {
   "display_name": "Python 3",
   "language": "python",
   "name": "python3"
  },
  "language_info": {
   "codemirror_mode": {
    "name": "ipython",
    "version": 2
   },
   "file_extension": ".py",
   "mimetype": "text/x-python",
   "name": "python",
   "nbconvert_exporter": "python",
   "pygments_lexer": "ipython2",
   "version": "2.7.6"
  }
 },
 "nbformat": 4,
 "nbformat_minor": 5
}
