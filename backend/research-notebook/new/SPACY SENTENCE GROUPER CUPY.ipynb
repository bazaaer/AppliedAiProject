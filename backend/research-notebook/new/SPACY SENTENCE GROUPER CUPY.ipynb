{
 "cells": [
  {
   "metadata": {},
   "cell_type": "code",
   "outputs": [],
   "execution_count": null,
   "source": [
    "import spacy\n",
    "import cupy as cp\n",
    "nlp = spacy.load(\"nl_core_news_lg\")"
   ],
   "id": "7dc7c550a9bdc5c5"
  },
  {
   "metadata": {},
   "cell_type": "markdown",
   "source": "",
   "id": "596b8090a0d96a4"
  },
  {
   "metadata": {},
   "cell_type": "code",
   "source": [
    "def group_similar_sentences(text, similarity_threshold=0.75):\n",
    "    doc = nlp(text)\n",
    "    \n",
    "    valid_sentences = []\n",
    "    valid_embeddings = []\n",
    "\n",
    "    # Extract embeddings for valid sentences\n",
    "    for sent in doc.sents:\n",
    "        embedding = cp.array(sent.vector)  # Convert to CuPy array\n",
    "        if not cp.all(embedding == 0):  # Check if the embedding is not zero\n",
    "            valid_sentences.append(sent.text.strip())\n",
    "            valid_embeddings.append(embedding)\n",
    "\n",
    "    # Convert valid embeddings to a CuPy array\n",
    "    valid_embeddings = cp.array(valid_embeddings)\n",
    "\n",
    "    if valid_embeddings.shape[0] == 0:\n",
    "        return [\"No valid sentences with embeddings found.\"]\n",
    "    \n",
    "    # Compute cosine similarities using CuPy without normalization\n",
    "    similarities = cp.dot(valid_embeddings, valid_embeddings.T)\n",
    "\n",
    "    # Ensure the diagonal is zero for comparison\n",
    "    cp.fill_diagonal(similarities, 0)\n",
    "\n",
    "    norms = cp.linalg.norm(valid_embeddings, axis=1)\n",
    "    \n",
    "    similarities = similarities / cp.outer(norms, norms)\n",
    "\n",
    "    grouped_sentences = []\n",
    "    current_group = [valid_sentences[0]]\n",
    "\n",
    "    for i in range(1, len(valid_sentences)):\n",
    "        similarity = similarities[0, i]  # Compare with the first sentence in the current group\n",
    "\n",
    "        if similarity >= similarity_threshold:\n",
    "            current_group.append(valid_sentences[i])\n",
    "        else:\n",
    "            grouped_sentences.append(current_group)\n",
    "            current_group = [valid_sentences[i]]\n",
    "\n",
    "    grouped_sentences.append(current_group)\n",
    "\n",
    "    return grouped_sentences"
   ],
   "id": "d6dba54027d414e9",
   "outputs": [],
   "execution_count": null
  },
  {
   "metadata": {},
   "cell_type": "markdown",
   "source": "",
   "id": "11b103f695125526"
  },
  {
   "metadata": {},
   "cell_type": "code",
   "source": "text = \"\"\"Vanaf 28 september 2024 neemt Antwerpen de fakkel van het Ensorjaar over van Oostende met een veelzijdig en verrassend expoprogramma. Wat Antwerpen heeft met Ensor? Een gedeelde, verrassende blik voorbij het alledaagse. Die gaat al terug tot de tijd van Ensor zelf. Niet toevallig kwamen veel van zijn werken nog tijdens zijn leven in de Scheldestad terecht. Ze vormen vandaag de kern van de Ensor-collectie van het KMSKA en een vertrekpunt voor het Ensor Research Project. In zijn oeuvre laat Ensor zich - net als Antwerpen - kennen als een game-changer: vaak met een knipoog, soms dwars en altijd innovatief. Eigenschappen die Ensor tijdloos en relevant maken. Antwerpen kiest daarom voor verrassende invalshoeken om zijn werk te belichten. Hoe zien we echo’s van Ensor in de kunst, mode en fotografie? Hoe blijft hij inspireren en wat kunnen we vandaag nog van hem leren?\"\"\"",
   "id": "c21e750e757fa963",
   "outputs": [],
   "execution_count": null
  },
  {
   "metadata": {},
   "cell_type": "markdown",
   "source": "",
   "id": "adbb0f13d695a76a"
  },
  {
   "metadata": {},
   "cell_type": "code",
   "source": "grouped_sentences = group_similar_sentences(text)",
   "id": "9c1739c16cac05c8",
   "outputs": [],
   "execution_count": null
  },
  {
   "metadata": {},
   "cell_type": "markdown",
   "source": "",
   "id": "c7aa6dc806a2030b"
  },
  {
   "metadata": {},
   "cell_type": "code",
   "source": [
    "for i, group in enumerate(grouped_sentences, 1):\n",
    "    print(f\"Groep {i}:\")\n",
    "    for sentence in group:\n",
    "        print(f\" - {sentence}\")"
   ],
   "id": "aad449bb8cd799a0",
   "outputs": [],
   "execution_count": null
  },
  {
   "metadata": {},
   "cell_type": "markdown",
   "source": "",
   "id": "be843a359ee86369"
  }
 ],
 "metadata": {
  "kernelspec": {
   "display_name": "Python 3",
   "language": "python",
   "name": "python3"
  },
  "language_info": {
   "codemirror_mode": {
    "name": "ipython",
    "version": 2
   },
   "file_extension": ".py",
   "mimetype": "text/x-python",
   "name": "python",
   "nbconvert_exporter": "python",
   "pygments_lexer": "ipython2",
   "version": "2.7.6"
  }
 },
 "nbformat": 4,
 "nbformat_minor": 5
}
