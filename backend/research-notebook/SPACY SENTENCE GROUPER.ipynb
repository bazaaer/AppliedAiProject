{
 "cells": [
  {
   "cell_type": "code",
   "id": "initial_id",
   "metadata": {
    "collapsed": true,
    "ExecuteTime": {
     "end_time": "2024-10-13T16:33:31.785779Z",
     "start_time": "2024-10-13T16:33:29.848442Z"
    }
   },
   "source": [
    "import spacy\n",
    "import numpy as np\n",
    "from sklearn.metrics.pairwise import cosine_similarity\n",
    "\n",
    "nlp = spacy.load(\"nl_core_news_lg\")"
   ],
   "outputs": [],
   "execution_count": 23
  },
  {
   "metadata": {
    "ExecuteTime": {
     "end_time": "2024-10-13T16:36:44.462464Z",
     "start_time": "2024-10-13T16:36:44.458213Z"
    }
   },
   "cell_type": "code",
   "source": [
    "def group_similar_sentences(text, similarity_threshold=0.75):\n",
    "    doc = nlp(text)\n",
    "    \n",
    "    valid_sentences = []\n",
    "    valid_embeddings = []\n",
    "    \n",
    "    for sent in doc.sents:\n",
    "        embedding = sent.vector\n",
    "        if not np.all(embedding == 0):\n",
    "            valid_sentences.append(sent.text.strip())\n",
    "            valid_embeddings.append(embedding)\n",
    "    \n",
    "    valid_embeddings = np.array(valid_embeddings)\n",
    "    \n",
    "    if len(valid_embeddings) == 0:\n",
    "        return [\"No valid sentences with embeddings found.\"]\n",
    "    \n",
    "    similarities = cosine_similarity(valid_embeddings)\n",
    "    \n",
    "    grouped_sentences = []\n",
    "    current_group = [valid_sentences[0]]\n",
    "    \n",
    "    for i in range(1, len(valid_sentences)):\n",
    "        similarity = similarities[i - 1, i]\n",
    "        \n",
    "        if similarity >= similarity_threshold:\n",
    "            current_group.append(valid_sentences[i])\n",
    "        else:\n",
    "            grouped_sentences.append(current_group)\n",
    "            current_group = [valid_sentences[i]]\n",
    "    \n",
    "    grouped_sentences.append(current_group)\n",
    "    \n",
    "    return grouped_sentences"
   ],
   "id": "d6dba54027d414e9",
   "outputs": [],
   "execution_count": 32
  },
  {
   "metadata": {
    "ExecuteTime": {
     "end_time": "2024-10-13T16:36:46.425458Z",
     "start_time": "2024-10-13T16:36:46.421706Z"
    }
   },
   "cell_type": "code",
   "source": "text = \"\"\"Vanaf 28 september 2024 neemt Antwerpen de fakkel van het Ensorjaar over van Oostende met een veelzijdig en verrassend expoprogramma. Wat Antwerpen heeft met Ensor? Een gedeelde, verrassende blik voorbij het alledaagse. Die gaat al terug tot de tijd van Ensor zelf. Niet toevallig kwamen veel van zijn werken nog tijdens zijn leven in de Scheldestad terecht. Ze vormen vandaag de kern van de Ensor-collectie van het KMSKA en een vertrekpunt voor het Ensor Research Project. In zijn oeuvre laat Ensor zich - net als Antwerpen - kennen als een game-changer: vaak met een knipoog, soms dwars en altijd innovatief. Eigenschappen die Ensor tijdloos en relevant maken. Antwerpen kiest daarom voor verrassende invalshoeken om zijn werk te belichten. Hoe zien we echo’s van Ensor in de kunst, mode en fotografie? Hoe blijft hij inspireren en wat kunnen we vandaag nog van hem leren?\"\"\"",
   "id": "c21e750e757fa963",
   "outputs": [],
   "execution_count": 33
  },
  {
   "metadata": {
    "ExecuteTime": {
     "end_time": "2024-10-13T16:39:14.494849Z",
     "start_time": "2024-10-13T16:39:14.471535Z"
    }
   },
   "cell_type": "code",
   "source": [
    "grouped_sentences = group_similar_sentences(text, similarity_threshold=0.75)\n",
    "\n",
    "for i, group in enumerate(grouped_sentences, 1):\n",
    "    print(f\"Groep {i}:\")\n",
    "    for sentence in group:\n",
    "        print(f\" - {sentence}\")\n",
    "    print()"
   ],
   "id": "9c1739c16cac05c8",
   "outputs": [
    {
     "name": "stdout",
     "output_type": "stream",
     "text": [
      "Groep 1:\n",
      " - Vanaf 28 september 2024 neemt Antwerpen de fakkel van het Ensorjaar over van Oostende met een veelzijdig en verrassend expoprogramma.\n",
      "\n",
      "Groep 2:\n",
      " - Wat Antwerpen heeft met Ensor?\n",
      "\n",
      "Groep 3:\n",
      " - Een gedeelde, verrassende blik voorbij het alledaagse.\n",
      "\n",
      "Groep 4:\n",
      " - Die gaat al terug tot de tijd van Ensor zelf.\n",
      " - Niet toevallig kwamen veel van zijn werken nog tijdens zijn leven in de Scheldestad terecht.\n",
      " - Ze vormen vandaag de kern van de Ensor-collectie van het KMSKA en een vertrekpunt voor het Ensor Research Project.\n",
      "\n",
      "Groep 5:\n",
      " - In zijn oeuvre laat Ensor zich - net als Antwerpen - kennen als een game-changer: vaak met een knipoog, soms dwars en altijd innovatief.\n",
      " - Eigenschappen die Ensor tijdloos en relevant maken.\n",
      " - Antwerpen kiest daarom voor verrassende invalshoeken om zijn werk te belichten.\n",
      "\n",
      "Groep 6:\n",
      " - Hoe zien we echo’s van Ensor in de kunst, mode en fotografie?\n",
      " - Hoe blijft hij inspireren en wat kunnen we vandaag nog van hem leren?\n",
      "\n"
     ]
    }
   ],
   "execution_count": 49
  },
  {
   "metadata": {},
   "cell_type": "code",
   "outputs": [],
   "execution_count": null,
   "source": "",
   "id": "d5bd0553674228ee"
  }
 ],
 "metadata": {
  "kernelspec": {
   "display_name": "Python 3",
   "language": "python",
   "name": "python3"
  },
  "language_info": {
   "codemirror_mode": {
    "name": "ipython",
    "version": 2
   },
   "file_extension": ".py",
   "mimetype": "text/x-python",
   "name": "python",
   "nbconvert_exporter": "python",
   "pygments_lexer": "ipython2",
   "version": "2.7.6"
  }
 },
 "nbformat": 4,
 "nbformat_minor": 5
}
