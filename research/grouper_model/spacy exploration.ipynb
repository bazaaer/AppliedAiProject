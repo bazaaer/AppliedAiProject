{
 "cells": [
  {
   "metadata": {},
   "cell_type": "code",
   "source": [
    "texta = \"De zon scheen helder, terwijl de vogels vrolijk floten in de bomen.\"\n",
    "textb = \"Ik ging naar de markt om verse groenten en fruit te kopen voor het avondeten.\""
   ],
   "id": "725e2a1cd5cb73f2",
   "outputs": [],
   "execution_count": null
  },
  {
   "metadata": {},
   "cell_type": "code",
   "source": [
    "import spacy\n",
    "model = spacy.load(\"nl_core_news_lg\")\n",
    "doc_1 = model(texta)\n",
    "doc_2 = model(textb)\n",
    "\n",
    "print(doc_1.similarity(doc_2))"
   ],
   "id": "6e8ce7646c654784",
   "outputs": [],
   "execution_count": null
  },
  {
   "metadata": {},
   "cell_type": "code",
   "source": [
    "from spacy.matcher import Matcher\n",
    "import spacy\n",
    "\n",
    "# Load the model\n",
    "nlp = spacy.load(\"nl_core_news_lg\")\n",
    "mat = Matcher(nlp.vocab)\n",
    "\n",
    "# Define the improved pattern\n",
    "patterns = [\n",
    "    [{'LEMMA': 'houden', 'POS': 'VERB'}, {'LOWER': 'van'}, {'LEMMA': 'kat', 'POS': 'NOUN'}],\n",
    "    [{'LEMMA': 'houd', 'POS': 'VERB'}, {'LOWER': 'van'}, {'LEMMA': 'kat', 'POS': 'NOUN'}],\n",
    "    [{'LEMMA': 'houdt', 'POS': 'VERB'}, {'LOWER': 'van'}, {'LEMMA': 'kat', 'POS': 'NOUN'}],\n",
    "    [{'LEMMA': 'houden', 'POS': 'VERB'}, {'LOWER': 'katten'}],\n",
    "    [{'LEMMA': 'houd', 'POS': 'VERB'}, {'LOWER': 'katten'}],\n",
    "    [{'LEMMA': 'houdt', 'POS': 'VERB'}, {'LOWER': 'katten'}],\n",
    "    [{'LEMMA': 'houden', 'POS': 'VERB'}, {'LOWER': 'niet'}, {'LOWER': 'van'}, {'LEMMA': 'kat', 'POS': 'NOUN'}],\n",
    "]\n",
    "\n",
    "# Add patterns to the matcher\n",
    "for pattern in patterns:\n",
    "    mat.add(\"KAT_PATROON\", [pattern])\n",
    "\n",
    "# Example document\n",
    "document = nlp(\"Jij houdt van katten en ik ben niet zo blij dat jij houdt van honden.\")\n",
    "\n",
    "matches = mat(document)\n",
    "\n",
    "# Display matches\n",
    "for match_id, st, en in matches:\n",
    "    print(match_id,document[st:en])"
   ],
   "id": "be665e85fdc1ff48",
   "outputs": [],
   "execution_count": null
  },
  {
   "metadata": {},
   "cell_type": "code",
   "source": [
    "import spacy\n",
    "from spacy.matcher import Matcher\n",
    "\n",
    "# Load the Dutch model\n",
    "nlp = spacy.load(\"nl_core_news_lg\")\n",
    "matcher = Matcher(nlp.vocab)\n",
    "\n",
    "# Define a list of common Dutch country names\n",
    "country_names = [\n",
    "    'Nederland',  # Netherlands\n",
    "    'België',     # Belgium\n",
    "    'Duitsland',  # Germany\n",
    "    'Frankrijk',  # France\n",
    "    'Spanje',     # Spain\n",
    "    'Italië',     # Italy\n",
    "    'Verenigde Staten',  # United States\n",
    "    'Zuid-Afrika', # South Africa\n",
    "    'Zweden',     # Sweden\n",
    "    'Noorwegen',  # Norway\n",
    "    'Finland',    # Finland\n",
    "    'Denemarken', # Denmark\n",
    "    'Griekenland',# Greece\n",
    "    'Portugal',   # Portugal\n",
    "]\n",
    "\n",
    "# Create patterns for each country name\n",
    "for country in country_names:\n",
    "    pattern = [{'LOWER': country.lower()}]\n",
    "    matcher.add(f\"COUNTRY_{country.upper()}\", [pattern])\n",
    "\n",
    "# Example text\n",
    "text = \"Ik heb een vriend uit Nederland en een vriendin uit België. Ook heb ik vakantieplannen voor Italië en Frankrijk.\"\n",
    "\n",
    "# Process the text\n",
    "doc = nlp(text)\n",
    "\n",
    "# Find matches\n",
    "matches = matcher(doc)\n",
    "\n",
    "# Display matches\n",
    "for match_id, start, end in matches:\n",
    "    matched_span = doc[start:end]\n",
    "    print(f\"Match: {matched_span.text} (from index {start} to {end})\")"
   ],
   "id": "27bdd27a096c2607",
   "outputs": [],
   "execution_count": null
  },
  {
   "metadata": {},
   "cell_type": "code",
   "source": "",
   "id": "fd8a6f28e12e8fdb",
   "outputs": [],
   "execution_count": null
  }
 ],
 "metadata": {
  "kernelspec": {
   "display_name": "Python 3",
   "language": "python",
   "name": "python3"
  },
  "language_info": {
   "codemirror_mode": {
    "name": "ipython",
    "version": 2
   },
   "file_extension": ".py",
   "mimetype": "text/x-python",
   "name": "python",
   "nbconvert_exporter": "python",
   "pygments_lexer": "ipython2",
   "version": "2.7.6"
  }
 },
 "nbformat": 4,
 "nbformat_minor": 5
}
